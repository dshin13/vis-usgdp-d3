{
 "cells": [
  {
   "cell_type": "code",
   "execution_count": 37,
   "metadata": {},
   "outputs": [],
   "source": [
    "import csv\n",
    "import re\n",
    "import json"
   ]
  },
  {
   "cell_type": "code",
   "execution_count": 52,
   "metadata": {},
   "outputs": [],
   "source": [
    "data_json = {}\n",
    "\n",
    "def parse_data(row, level, legend1, legend2):\n",
    "    return {\n",
    "        'name': row[1].strip(),\n",
    "        'level': level,\n",
    "        'values': [{'year': int(legend1[x[0]]),\n",
    "                    'quarter': legend2[x[0]],\n",
    "                    'value': x[1]}\n",
    "                   for x in enumerate(row[2:])],\n",
    "        'children': []\n",
    "    }\n",
    "\n",
    "with open('dataset.csv', 'r') as csvfile:\n",
    "    data = csv.reader(csvfile)\n",
    "    \n",
    "    # title\n",
    "    data_json['title'] = next(data)[0]\n",
    "    # unit\n",
    "    data_json['unit'] = next(data)[0]\n",
    "    # author\n",
    "    data_json['author'] = next(data)[0]\n",
    "    # release_date\n",
    "    data_json['release_date'] = next(data)[0]\n",
    "\n",
    "    legend1= next(data)[2:]\n",
    "    legend2= next(data)[2:]\n",
    "    \n",
    "    # initialize data with first row\n",
    "    row1 = next(data)\n",
    "    data_json['data'] = parse_data(row1, -1, legend1, legend2)\n",
    "    \n",
    "    # stack to maintain parent node reference while parsing\n",
    "    stack = [data_json['data']]\n",
    "    \n",
    "    for row in data:\n",
    "        if (len(row) != 2 + len(legend1)):\n",
    "            break\n",
    "            \n",
    "        # decode row level from whitespace\n",
    "        level = len(re.search(r'^[ ]*', row[1])[0])//2\n",
    "        \n",
    "        while not (level > stack[-1]['level'] or stack==[]):\n",
    "            stack.pop()\n",
    "\n",
    "        # add data to dictionary\n",
    "        stack[-1]['children'].append(parse_data(row, level, legend1, legend2))\n",
    "        \n",
    "        # add node reference to stack\n",
    "        stack.append(stack[-1]['children'][-1])\n",
    "        \n",
    "# write out to json\n",
    "with open('dataset.json', 'w') as f:\n",
    "    json.dump(data_json, f)"
   ]
  }
 ],
 "metadata": {
  "kernelspec": {
   "display_name": "Python 3",
   "language": "python",
   "name": "python3"
  },
  "language_info": {
   "codemirror_mode": {
    "name": "ipython",
    "version": 3
   },
   "file_extension": ".py",
   "mimetype": "text/x-python",
   "name": "python",
   "nbconvert_exporter": "python",
   "pygments_lexer": "ipython3",
   "version": "3.6.5"
  }
 },
 "nbformat": 4,
 "nbformat_minor": 2
}
